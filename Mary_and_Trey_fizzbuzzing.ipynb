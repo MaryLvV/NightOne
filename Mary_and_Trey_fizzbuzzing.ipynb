{
 "cells": [
  {
   "cell_type": "code",
   "execution_count": 2,
   "metadata": {
    "collapsed": true
   },
   "outputs": [],
   "source": [
    "import numpy"
   ]
  },
  {
   "cell_type": "code",
   "execution_count": 3,
   "metadata": {
    "collapsed": true
   },
   "outputs": [],
   "source": [
    "def FizzBuzz(first, second, third):\n",
    "    #for [0:2]\n",
    "        if (first % 5) == 0 and (first % 3) == 0:\n",
    "            print \"FizzBuzz\"\n",
    "        elif (first % 3) == 0:\n",
    "            print \"Fizz\"\n",
    "        elif (first % 5) == 0:\n",
    "            print \"Buzz\"\n",
    "        else:\n",
    "            print first\n",
    "            \n",
    "        if (second % 5) == 0 and (second % 3) == 0:\n",
    "            print \"FizzBuzz\"\n",
    "        elif (second % 3) == 0:\n",
    "            print \"Fizz\"\n",
    "        elif (second % 5) == 0:\n",
    "            print \"Buzz\"\n",
    "        else:\n",
    "            print second\n",
    "            \n",
    "        if (third % 5) == 0 and (third % 3) == 0:\n",
    "            print \"FizzBuzz\"\n",
    "        elif (third % 3) == 0:\n",
    "            print \"Fizz\"\n",
    "        elif (third % 5) == 0:\n",
    "            print \"Buzz\"\n",
    "        else:\n",
    "            print third"
   ]
  },
  {
   "cell_type": "code",
   "execution_count": 9,
   "metadata": {
    "collapsed": false
   },
   "outputs": [
    {
     "ename": "NameError",
     "evalue": "name 'FizzBuzz' is not defined",
     "output_type": "error",
     "traceback": [
      "\u001b[0;31m---------------------------------------------------------------------------\u001b[0m",
      "\u001b[0;31mNameError\u001b[0m                                 Traceback (most recent call last)",
      "\u001b[0;32m<ipython-input-9-177ca1592f87>\u001b[0m in \u001b[0;36m<module>\u001b[0;34m()\u001b[0m\n\u001b[0;32m----> 1\u001b[0;31m \u001b[0mFizzBuzz\u001b[0m\u001b[0;34m(\u001b[0m\u001b[0;36m1234567890\u001b[0m\u001b[0;34m,\u001b[0m \u001b[0;36m20\u001b[0m\u001b[0;34m,\u001b[0m \u001b[0;36m30\u001b[0m\u001b[0;34m)\u001b[0m\u001b[0;34m\u001b[0m\u001b[0m\n\u001b[0m\u001b[1;32m      2\u001b[0m \u001b[0;34m\u001b[0m\u001b[0m\n\u001b[1;32m      3\u001b[0m \u001b[0;34m\u001b[0m\u001b[0m\n\u001b[1;32m      4\u001b[0m \u001b[0;34m\u001b[0m\u001b[0m\n\u001b[1;32m      5\u001b[0m \u001b[0;34m\u001b[0m\u001b[0m\n",
      "\u001b[0;31mNameError\u001b[0m: name 'FizzBuzz' is not defined"
     ]
    }
   ],
   "source": [
    "FizzBuzz(1234567890, 20, 30)\n",
    "\n",
    "\n",
    "\n",
    "        "
   ]
  },
  {
   "cell_type": "code",
   "execution_count": null,
   "metadata": {
    "collapsed": true
   },
   "outputs": [],
   "source": []
  }
 ],
 "metadata": {
  "kernelspec": {
   "display_name": "Python 2",
   "language": "python",
   "name": "python2"
  },
  "language_info": {
   "codemirror_mode": {
    "name": "ipython",
    "version": 2
   },
   "file_extension": ".py",
   "mimetype": "text/x-python",
   "name": "python",
   "nbconvert_exporter": "python",
   "pygments_lexer": "ipython2",
   "version": "2.7.10"
  }
 },
 "nbformat": 4,
 "nbformat_minor": 0
}
